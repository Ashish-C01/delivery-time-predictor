{
 "cells": [
  {
   "cell_type": "code",
   "execution_count": 32,
   "metadata": {},
   "outputs": [],
   "source": [
    "import pandas as pd\n",
    "import seaborn as sns\n",
    "from sklearn.model_selection import train_test_split,cross_val_score\n",
    "from xgboost import XGBRegressor\n",
    "from sklearn.pipeline import Pipeline\n",
    "from sklearn.compose import ColumnTransformer\n",
    "from sklearn.preprocessing import StandardScaler,OneHotEncoder\n",
    "from sklearn.metrics import r2_score,root_mean_squared_error\n",
    "from hyperopt import hp, tpe, fmin, Trials, STATUS_OK\n",
    "from hyperopt.pyll.base import scope\n",
    "import numpy as np\n",
    "from sklearn.ensemble import RandomForestRegressor\n",
    "import pickle\n",
    "from sklearn.linear_model import LinearRegression\n",
    "import matplotlib.pyplot as plt"
   ]
  },
  {
   "cell_type": "code",
   "execution_count": 3,
   "metadata": {},
   "outputs": [],
   "source": [
    "df=pd.read_csv(r'..\\Data\\Delivery_data.csv')"
   ]
  },
  {
   "cell_type": "code",
   "execution_count": 4,
   "metadata": {},
   "outputs": [
    {
     "data": {
      "text/html": [
       "<div>\n",
       "<style scoped>\n",
       "    .dataframe tbody tr th:only-of-type {\n",
       "        vertical-align: middle;\n",
       "    }\n",
       "\n",
       "    .dataframe tbody tr th {\n",
       "        vertical-align: top;\n",
       "    }\n",
       "\n",
       "    .dataframe thead th {\n",
       "        text-align: right;\n",
       "    }\n",
       "</style>\n",
       "<table border=\"1\" class=\"dataframe\">\n",
       "  <thead>\n",
       "    <tr style=\"text-align: right;\">\n",
       "      <th></th>\n",
       "      <th>Delivery_person_Age</th>\n",
       "      <th>Delivery_person_Ratings</th>\n",
       "      <th>Weatherconditions</th>\n",
       "      <th>Road_traffic_density</th>\n",
       "      <th>Vehicle_condition</th>\n",
       "      <th>Type_of_order</th>\n",
       "      <th>Type_of_vehicle</th>\n",
       "      <th>multiple_deliveries</th>\n",
       "      <th>Festival</th>\n",
       "      <th>City</th>\n",
       "      <th>distance</th>\n",
       "      <th>time</th>\n",
       "      <th>Weather</th>\n",
       "      <th>time of day</th>\n",
       "    </tr>\n",
       "  </thead>\n",
       "  <tbody>\n",
       "    <tr>\n",
       "      <th>0</th>\n",
       "      <td>37</td>\n",
       "      <td>4.9</td>\n",
       "      <td>conditions Sunny</td>\n",
       "      <td>High</td>\n",
       "      <td>2</td>\n",
       "      <td>Snack</td>\n",
       "      <td>motorcycle</td>\n",
       "      <td>0</td>\n",
       "      <td>No</td>\n",
       "      <td>Urban</td>\n",
       "      <td>5.241</td>\n",
       "      <td>24</td>\n",
       "      <td>Sunny</td>\n",
       "      <td>Morning</td>\n",
       "    </tr>\n",
       "    <tr>\n",
       "      <th>1</th>\n",
       "      <td>34</td>\n",
       "      <td>4.5</td>\n",
       "      <td>conditions Stormy</td>\n",
       "      <td>Jam</td>\n",
       "      <td>2</td>\n",
       "      <td>Snack</td>\n",
       "      <td>scooter</td>\n",
       "      <td>1</td>\n",
       "      <td>No</td>\n",
       "      <td>Metropolitian</td>\n",
       "      <td>29.365</td>\n",
       "      <td>33</td>\n",
       "      <td>Stormy</td>\n",
       "      <td>Evening</td>\n",
       "    </tr>\n",
       "    <tr>\n",
       "      <th>2</th>\n",
       "      <td>23</td>\n",
       "      <td>4.4</td>\n",
       "      <td>conditions Sandstorms</td>\n",
       "      <td>Low</td>\n",
       "      <td>0</td>\n",
       "      <td>Drinks</td>\n",
       "      <td>motorcycle</td>\n",
       "      <td>1</td>\n",
       "      <td>No</td>\n",
       "      <td>Urban</td>\n",
       "      <td>5.483</td>\n",
       "      <td>26</td>\n",
       "      <td>Sandstorms</td>\n",
       "      <td>Morning</td>\n",
       "    </tr>\n",
       "    <tr>\n",
       "      <th>3</th>\n",
       "      <td>38</td>\n",
       "      <td>4.7</td>\n",
       "      <td>conditions Sunny</td>\n",
       "      <td>Medium</td>\n",
       "      <td>0</td>\n",
       "      <td>Buffet</td>\n",
       "      <td>motorcycle</td>\n",
       "      <td>1</td>\n",
       "      <td>No</td>\n",
       "      <td>Metropolitian</td>\n",
       "      <td>11.917</td>\n",
       "      <td>21</td>\n",
       "      <td>Sunny</td>\n",
       "      <td>Evening</td>\n",
       "    </tr>\n",
       "    <tr>\n",
       "      <th>4</th>\n",
       "      <td>32</td>\n",
       "      <td>4.6</td>\n",
       "      <td>conditions Cloudy</td>\n",
       "      <td>High</td>\n",
       "      <td>1</td>\n",
       "      <td>Snack</td>\n",
       "      <td>scooter</td>\n",
       "      <td>1</td>\n",
       "      <td>No</td>\n",
       "      <td>Metropolitian</td>\n",
       "      <td>12.974</td>\n",
       "      <td>30</td>\n",
       "      <td>Cloudy</td>\n",
       "      <td>Afternoon</td>\n",
       "    </tr>\n",
       "    <tr>\n",
       "      <th>...</th>\n",
       "      <td>...</td>\n",
       "      <td>...</td>\n",
       "      <td>...</td>\n",
       "      <td>...</td>\n",
       "      <td>...</td>\n",
       "      <td>...</td>\n",
       "      <td>...</td>\n",
       "      <td>...</td>\n",
       "      <td>...</td>\n",
       "      <td>...</td>\n",
       "      <td>...</td>\n",
       "      <td>...</td>\n",
       "      <td>...</td>\n",
       "      <td>...</td>\n",
       "    </tr>\n",
       "    <tr>\n",
       "      <th>25129</th>\n",
       "      <td>32</td>\n",
       "      <td>4.8</td>\n",
       "      <td>conditions Cloudy</td>\n",
       "      <td>Low</td>\n",
       "      <td>1</td>\n",
       "      <td>Buffet</td>\n",
       "      <td>scooter</td>\n",
       "      <td>1</td>\n",
       "      <td>No</td>\n",
       "      <td>Urban</td>\n",
       "      <td>21.542</td>\n",
       "      <td>30</td>\n",
       "      <td>Cloudy</td>\n",
       "      <td>Night</td>\n",
       "    </tr>\n",
       "    <tr>\n",
       "      <th>25130</th>\n",
       "      <td>29</td>\n",
       "      <td>4.5</td>\n",
       "      <td>conditions Fog</td>\n",
       "      <td>Low</td>\n",
       "      <td>2</td>\n",
       "      <td>Meal</td>\n",
       "      <td>electric_scooter</td>\n",
       "      <td>0</td>\n",
       "      <td>No</td>\n",
       "      <td>Metropolitian</td>\n",
       "      <td>11.366</td>\n",
       "      <td>11</td>\n",
       "      <td>Fog</td>\n",
       "      <td>Night</td>\n",
       "    </tr>\n",
       "    <tr>\n",
       "      <th>25131</th>\n",
       "      <td>22</td>\n",
       "      <td>4.7</td>\n",
       "      <td>conditions Stormy</td>\n",
       "      <td>Jam</td>\n",
       "      <td>0</td>\n",
       "      <td>Snack</td>\n",
       "      <td>motorcycle</td>\n",
       "      <td>1</td>\n",
       "      <td>No</td>\n",
       "      <td>Metropolitian</td>\n",
       "      <td>14.187</td>\n",
       "      <td>27</td>\n",
       "      <td>Stormy</td>\n",
       "      <td>Evening</td>\n",
       "    </tr>\n",
       "    <tr>\n",
       "      <th>25132</th>\n",
       "      <td>38</td>\n",
       "      <td>4.7</td>\n",
       "      <td>conditions Sandstorms</td>\n",
       "      <td>Medium</td>\n",
       "      <td>0</td>\n",
       "      <td>Snack</td>\n",
       "      <td>motorcycle</td>\n",
       "      <td>1</td>\n",
       "      <td>No</td>\n",
       "      <td>Urban</td>\n",
       "      <td>9.364</td>\n",
       "      <td>28</td>\n",
       "      <td>Sandstorms</td>\n",
       "      <td>Afternoon</td>\n",
       "    </tr>\n",
       "    <tr>\n",
       "      <th>25133</th>\n",
       "      <td>32</td>\n",
       "      <td>4.6</td>\n",
       "      <td>conditions Windy</td>\n",
       "      <td>Medium</td>\n",
       "      <td>0</td>\n",
       "      <td>Snack</td>\n",
       "      <td>motorcycle</td>\n",
       "      <td>1</td>\n",
       "      <td>No</td>\n",
       "      <td>Urban</td>\n",
       "      <td>29.987</td>\n",
       "      <td>34</td>\n",
       "      <td>Windy</td>\n",
       "      <td>Evening</td>\n",
       "    </tr>\n",
       "  </tbody>\n",
       "</table>\n",
       "<p>25134 rows × 14 columns</p>\n",
       "</div>"
      ],
      "text/plain": [
       "       Delivery_person_Age  Delivery_person_Ratings      Weatherconditions  \\\n",
       "0                       37                      4.9       conditions Sunny   \n",
       "1                       34                      4.5      conditions Stormy   \n",
       "2                       23                      4.4  conditions Sandstorms   \n",
       "3                       38                      4.7       conditions Sunny   \n",
       "4                       32                      4.6      conditions Cloudy   \n",
       "...                    ...                      ...                    ...   \n",
       "25129                   32                      4.8      conditions Cloudy   \n",
       "25130                   29                      4.5         conditions Fog   \n",
       "25131                   22                      4.7      conditions Stormy   \n",
       "25132                   38                      4.7  conditions Sandstorms   \n",
       "25133                   32                      4.6       conditions Windy   \n",
       "\n",
       "      Road_traffic_density  Vehicle_condition Type_of_order   Type_of_vehicle  \\\n",
       "0                     High                  2         Snack        motorcycle   \n",
       "1                      Jam                  2         Snack           scooter   \n",
       "2                      Low                  0        Drinks        motorcycle   \n",
       "3                   Medium                  0        Buffet        motorcycle   \n",
       "4                     High                  1         Snack           scooter   \n",
       "...                    ...                ...           ...               ...   \n",
       "25129                  Low                  1        Buffet           scooter   \n",
       "25130                  Low                  2          Meal  electric_scooter   \n",
       "25131                  Jam                  0         Snack        motorcycle   \n",
       "25132               Medium                  0         Snack        motorcycle   \n",
       "25133               Medium                  0         Snack        motorcycle   \n",
       "\n",
       "       multiple_deliveries Festival           City  distance  time  \\\n",
       "0                        0       No          Urban     5.241    24   \n",
       "1                        1       No  Metropolitian    29.365    33   \n",
       "2                        1       No          Urban     5.483    26   \n",
       "3                        1       No  Metropolitian    11.917    21   \n",
       "4                        1       No  Metropolitian    12.974    30   \n",
       "...                    ...      ...            ...       ...   ...   \n",
       "25129                    1       No          Urban    21.542    30   \n",
       "25130                    0       No  Metropolitian    11.366    11   \n",
       "25131                    1       No  Metropolitian    14.187    27   \n",
       "25132                    1       No          Urban     9.364    28   \n",
       "25133                    1       No          Urban    29.987    34   \n",
       "\n",
       "          Weather time of day  \n",
       "0           Sunny     Morning  \n",
       "1          Stormy     Evening  \n",
       "2      Sandstorms     Morning  \n",
       "3           Sunny     Evening  \n",
       "4          Cloudy   Afternoon  \n",
       "...           ...         ...  \n",
       "25129      Cloudy       Night  \n",
       "25130         Fog       Night  \n",
       "25131      Stormy     Evening  \n",
       "25132  Sandstorms   Afternoon  \n",
       "25133       Windy     Evening  \n",
       "\n",
       "[25134 rows x 14 columns]"
      ]
     },
     "execution_count": 4,
     "metadata": {},
     "output_type": "execute_result"
    }
   ],
   "source": [
    "df"
   ]
  },
  {
   "cell_type": "code",
   "execution_count": 18,
   "metadata": {},
   "outputs": [
    {
     "name": "stdout",
     "output_type": "stream",
     "text": [
      "Delivery_person_Ratings\n",
      "4.8    4063\n",
      "4.9    4059\n",
      "4.7    4037\n",
      "4.6    4017\n",
      "5.0    2296\n",
      "4.5    1919\n",
      "4.1     858\n",
      "4.2     838\n",
      "4.3     833\n",
      "4.4     824\n",
      "4.0     636\n",
      "3.5     151\n",
      "3.8     126\n",
      "3.6     120\n",
      "3.7     114\n",
      "3.9     111\n",
      "3.2      22\n",
      "3.1      18\n",
      "3.3      17\n",
      "3.4      15\n",
      "2.6      13\n",
      "2.5      12\n",
      "2.7      12\n",
      "2.8      11\n",
      "2.9       9\n",
      "3.0       3\n",
      "Name: count, dtype: int64\n"
     ]
    }
   ],
   "source": [
    "print(df['Delivery_person_Ratings'].value_counts())"
   ]
  },
  {
   "cell_type": "code",
   "execution_count": 31,
   "metadata": {},
   "outputs": [
    {
     "data": {
      "text/plain": [
       "<Axes: >"
      ]
     },
     "execution_count": 31,
     "metadata": {},
     "output_type": "execute_result"
    },
    {
     "data": {
      "image/png": "[encoded data removed]",
      "text/plain": [
       "<Figure size 640x480 with 2 Axes>"
      ]
     },
     "metadata": {},
     "output_type": "display_data"
    }
   ],
   "source": [
    "numerical_columns=['Delivery_person_Age','Delivery_person_Ratings','distance','time']\n",
    "sns.heatmap(df[numerical_columns].corr(),annot=True)\n"
   ]
  },
  {
   "cell_type": "code",
   "execution_count": null,
   "metadata": {},
   "outputs": [],
   "source": [
    "numerical_columns=['Delivery_person_Age','Delivery_person_Ratings','distance']\n",
    "cat_cols=['Type_of_vehicle','Weather','Road_traffic_density','multiple_deliveries','Festival','City','time of day','Vehicle_condition'] \n",
    "X_train,X_test,y_train,y_test=train_test_split(df[numerical_columns+cat_cols],df['time'],test_size=0.2)"
   ]
  },
  {
   "cell_type": "code",
   "execution_count": 7,
   "metadata": {},
   "outputs": [],
   "source": [
    "preprocessor=ColumnTransformer([\n",
    "    ('numerical',StandardScaler(),numerical_columns),\n",
    "    ('categorical',OneHotEncoder(),cat_cols)\n",
    "],remainder='passthrough')\n",
    "pipeline=Pipeline(steps=[\n",
    "    ('preprocessor',preprocessor),\n",
    "    ('regressor',XGBRegressor(random_state=42,n_jobs=-1))\n",
    "])"
   ]
  },
  {
   "cell_type": "code",
   "execution_count": 8,
   "metadata": {},
   "outputs": [
    {
     "name": "stdout",
     "output_type": "stream",
     "text": [
      "Test score: 0.7938072085380554\n",
      "Train score: 0.8665894269943237\n",
      "Test RMSE: 4.201701077164398\n"
     ]
    }
   ],
   "source": [
    "pipeline.fit(X_train,y_train)\n",
    "y_pred=pipeline.predict(X_test)\n",
    "print(f\"Test score: {r2_score(y_test,y_pred)}\")\n",
    "print(f\"Train score: {pipeline.score(X_train,y_train)}\")\n",
    "print(f\"Test RMSE: {root_mean_squared_error(y_test,y_pred)}\")"
   ]
  },
  {
   "cell_type": "markdown",
   "metadata": {},
   "source": [
    "## Model 1 - XGBRegressor"
   ]
  },
  {
   "cell_type": "code",
   "execution_count": null,
   "metadata": {},
   "outputs": [],
   "source": [
    "def objective(params):\n",
    "    model = XGBRegressor(\n",
    "        n_estimators=int(params['n_estimators']),\n",
    "        max_depth=int(params['max_depth']),\n",
    "        learning_rate=params['learning_rate'],\n",
    "        subsample=params['subsample'],\n",
    "        colsample_bytree=params['colsample_bytree'],\n",
    "        gamma=params['gamma'],\n",
    "        reg_alpha=params['reg_alpha'],\n",
    "        reg_lambda=params['reg_lambda'],\n",
    "        n_jobs=-1\n",
    "    )\n",
    "    pipeline=Pipeline(steps=[\n",
    "    ('preprocessor',preprocessor),\n",
    "    ('regressor',model)\n",
    "    ])\n",
    "\n",
    "\n",
    "    pipeline.fit(X_train, y_train)\n",
    "    y_pred=pipeline.predict(X_test)\n",
    "    score = r2_score(y_test,y_pred)\n",
    "\n",
    "    return {'loss': -score, 'status': STATUS_OK}\n",
    "\n",
    "param_space = {\n",
    "    'n_estimators': scope.int(hp.quniform('n_estimators', 100, 1000, 1)),\n",
    "    'max_depth': scope.int(hp.quniform('max_depth', 3, 15, 1)),\n",
    "    'learning_rate': hp.loguniform('learning_rate', np.log(0.01), np.log(0.3)),\n",
    "    'subsample': hp.uniform('subsample', 0.5, 1.0),\n",
    "    'colsample_bytree': hp.uniform('colsample_bytree', 0.5, 1.0),\n",
    "    'gamma': hp.uniform('gamma', 0, 5),\n",
    "    'reg_alpha': hp.uniform('reg_alpha', 0, 5),\n",
    "    'reg_lambda': hp.uniform('reg_lambda', 0, 5),\n",
    "}"
   ]
  },
  {
   "cell_type": "code",
   "execution_count": 10,
   "metadata": {},
   "outputs": [
    {
     "name": "stdout",
     "output_type": "stream",
     "text": [
      "100%|██████████| 50/50 [01:37<00:00,  1.95s/trial, best loss: -0.8096404075622559]\n"
     ]
    }
   ],
   "source": [
    "trials = Trials()\n",
    "best_params = fmin(\n",
    "    fn=objective,\n",
    "    space=param_space,\n",
    "    algo=tpe.suggest,\n",
    "    max_evals=50,\n",
    "    trials=trials,\n",
    "    rstate=np.random.default_rng(42)\n",
    ")"
   ]
  },
  {
   "cell_type": "code",
   "execution_count": 11,
   "metadata": {},
   "outputs": [
    {
     "data": {
      "text/plain": [
       "{'colsample_bytree': 0.8549159812217342,\n",
       " 'gamma': 1.8956721422754617,\n",
       " 'learning_rate': 0.03873623447073392,\n",
       " 'max_depth': 8.0,\n",
       " 'n_estimators': 517.0,\n",
       " 'reg_alpha': 1.379336120117143,\n",
       " 'reg_lambda': 1.5403826119087305,\n",
       " 'subsample': 0.9985191526976377}"
      ]
     },
     "execution_count": 11,
     "metadata": {},
     "output_type": "execute_result"
    }
   ],
   "source": [
    "best_params"
   ]
  },
  {
   "cell_type": "code",
   "execution_count": 12,
   "metadata": {},
   "outputs": [
    {
     "name": "stdout",
     "output_type": "stream",
     "text": [
      "Test score: 0.8087986707687378\n",
      "Train score: 0.8671997785568237\n",
      "Test RMSE: 4.046074323197995\n"
     ]
    }
   ],
   "source": [
    "best_params['max_depth']=int(best_params['max_depth'])\n",
    "best_params['n_estimators']=int(best_params['n_estimators'])\n",
    "pipeline=Pipeline(steps=[\n",
    "    ('preprocessor',preprocessor),\n",
    "    ('regressor',XGBRegressor(**best_params,random_state=42,n_jobs=-1))\n",
    "])\n",
    "pipeline.fit(X_train,y_train)\n",
    "y_pred=pipeline.predict(X_test)\n",
    "print(f\"Test score: {r2_score(y_test,y_pred)}\")\n",
    "print(f\"Train score: {pipeline.score(X_train,y_train)}\")\n",
    "print(f\"Test RMSE: {root_mean_squared_error(y_test,y_pred)}\")"
   ]
  },
  {
   "cell_type": "code",
   "execution_count": 14,
   "metadata": {},
   "outputs": [],
   "source": [
    "with open(r'../model/model.pkl','wb') as f:\n",
    "    pickle.dump(pipeline,f)"
   ]
  },
  {
   "cell_type": "markdown",
   "metadata": {},
   "source": [
    "## Model 2"
   ]
  },
  {
   "cell_type": "code",
   "execution_count": null,
   "metadata": {},
   "outputs": [
    {
     "name": "stdout",
     "output_type": "stream",
     "text": [
      "100%|██████████| 100/100 [05:05<00:00,  3.05s/trial, best loss: -0.8113396763801575]\n"
     ]
    }
   ],
   "source": [
    "\n",
    "def objective(params):\n",
    "    model = XGBRegressor(\n",
    "        n_estimators=int(params['n_estimators']),\n",
    "        max_depth=int(params['max_depth']),\n",
    "        learning_rate=params['learning_rate'],\n",
    "        subsample=params['subsample'],\n",
    "        colsample_bytree=params['colsample_bytree'],\n",
    "        gamma=params['gamma'],\n",
    "        reg_alpha=params['reg_alpha'],\n",
    "        reg_lambda=params['reg_lambda'],\n",
    "        n_jobs=-1\n",
    "    )\n",
    "    pipeline=Pipeline(steps=[\n",
    "    ('preprocessor',preprocessor),\n",
    "    ('regressor',model)\n",
    "    ])\n",
    "\n",
    "\n",
    "    pipeline.fit(X_train, y_train)\n",
    "    y_pred=pipeline.predict(X_test)\n",
    "    score = r2_score(y_test,y_pred)\n",
    "    return {'loss': -score, 'status': STATUS_OK}\n",
    "\n",
    "param_space = {\n",
    "    'n_estimators': scope.int(hp.quniform('n_estimators', 100, 1000, 1)),\n",
    "    'max_depth': scope.int(hp.quniform('max_depth', 3, 15, 1)),\n",
    "    'learning_rate': hp.loguniform('learning_rate', np.log(0.01), np.log(0.3)),\n",
    "    'subsample': hp.uniform('subsample', 0.5, 1.0),\n",
    "    'colsample_bytree': hp.uniform('colsample_bytree', 0.5, 1.0),\n",
    "    'gamma': hp.uniform('gamma', 0, 5),\n",
    "    'reg_alpha': hp.uniform('reg_alpha', 0, 5),\n",
    "    'reg_lambda': hp.uniform('reg_lambda', 0, 5),\n",
    "}\n",
    "trials1 = Trials()\n",
    "best_params = fmin(\n",
    "    fn=objective,\n",
    "    space=param_space,\n",
    "    algo=tpe.suggest,\n",
    "    max_evals=100,\n",
    "    trials=trials1,\n",
    "    rstate=np.random.default_rng(42)\n",
    ")"
   ]
  },
  {
   "cell_type": "code",
   "execution_count": 16,
   "metadata": {},
   "outputs": [
    {
     "data": {
      "text/plain": [
       "{'colsample_bytree': 0.7704201113920344,\n",
       " 'gamma': 1.0677358157972023,\n",
       " 'learning_rate': 0.011064665226464989,\n",
       " 'max_depth': 9.0,\n",
       " 'n_estimators': 654.0,\n",
       " 'reg_alpha': 0.9406867902759138,\n",
       " 'reg_lambda': 4.477853980972736,\n",
       " 'subsample': 0.8454028232579619}"
      ]
     },
     "execution_count": 16,
     "metadata": {},
     "output_type": "execute_result"
    }
   ],
   "source": [
    "best_params"
   ]
  },
  {
   "cell_type": "code",
   "execution_count": 17,
   "metadata": {},
   "outputs": [
    {
     "name": "stdout",
     "output_type": "stream",
     "text": [
      "Test score: 0.8116288185119629\n",
      "Train score: 0.8625956773757935\n",
      "Test RMSE: 4.016017734554056\n"
     ]
    }
   ],
   "source": [
    "best_params['max_depth']=int(best_params['max_depth'])\n",
    "best_params['n_estimators']=int(best_params['n_estimators'])\n",
    "pipeline=Pipeline(steps=[\n",
    "    ('preprocessor',preprocessor),\n",
    "    ('regressor',XGBRegressor(**best_params,random_state=42,n_jobs=-1))\n",
    "])\n",
    "pipeline.fit(X_train,y_train)\n",
    "y_pred=pipeline.predict(X_test)\n",
    "print(f\"Test score: {r2_score(y_test,y_pred)}\")\n",
    "print(f\"Train score: {pipeline.score(X_train,y_train)}\")\n",
    "print(f\"Test RMSE: {root_mean_squared_error(y_test,y_pred)}\")"
   ]
  },
  {
   "cell_type": "code",
   "execution_count": 21,
   "metadata": {},
   "outputs": [],
   "source": [
    "with open(r'../model/model2.pkl','wb') as f:\n",
    "    pickle.dump(pipeline,f)"
   ]
  },
  {
   "cell_type": "markdown",
   "metadata": {},
   "source": [
    "## Model 2: RandomForest Regressor"
   ]
  },
  {
   "cell_type": "code",
   "execution_count": null,
   "metadata": {},
   "outputs": [],
   "source": [
    "def objective_(params):\n",
    "    rf_model = RandomForestRegressor(\n",
    "        n_estimators=int(params['n_estimators']),\n",
    "        max_depth=int(params['max_depth']),\n",
    "        min_samples_split=int(params['min_samples_split']),\n",
    "        min_samples_leaf=int(params['min_samples_leaf']),\n",
    "        max_features=params['max_features'],\n",
    "        random_state=42,\n",
    "        n_jobs=-1\n",
    "    )\n",
    "    rf_pipeline=Pipeline(steps=[\n",
    "    ('preprocessor',preprocessor),\n",
    "    ('regressor',rf_model)\n",
    "    ])\n",
    "\n",
    "    rf_pipeline.fit(X_train, y_train)\n",
    "    y_pred=rf_pipeline.predict(X_test)\n",
    "    score = r2_score(y_test,y_pred)\n",
    "\n",
    "    return {'loss': -score, 'status': STATUS_OK}\n",
    "\n",
    "param_space = {\n",
    "    'n_estimators': scope.int(hp.quniform('n_estimators', 50, 500, 10)),  \n",
    "    'max_depth': scope.int(hp.quniform('max_depth', 5, 30, 1)),           \n",
    "    'min_samples_split': hp.quniform('min_samples_split', 2, 10, 1), \n",
    "    'min_samples_leaf': hp.quniform('min_samples_leaf', 1, 10, 1),    \n",
    "    'max_features': hp.choice('max_features', ['sqrt', 'log2']) \n",
    "}"
   ]
  },
  {
   "cell_type": "code",
   "execution_count": 23,
   "metadata": {},
   "outputs": [
    {
     "name": "stdout",
     "output_type": "stream",
     "text": [
      "100%|██████████| 100/100 [04:19<00:00,  2.60s/trial, best loss: -0.7998361574842783]\n"
     ]
    }
   ],
   "source": [
    "trials2 = Trials()\n",
    "best_params = fmin(\n",
    "    fn=objective_,\n",
    "    space=param_space,\n",
    "    algo=tpe.suggest,\n",
    "    max_evals=100, \n",
    "    trials=trials2,\n",
    "    rstate=np.random.default_rng(42)\n",
    ")"
   ]
  },
  {
   "cell_type": "markdown",
   "metadata": {},
   "source": [
    "## Using an extra columns"
   ]
  },
  {
   "cell_type": "code",
   "execution_count": null,
   "metadata": {},
   "outputs": [],
   "source": [
    "numerical_columns=['Delivery_person_Age','Delivery_person_Ratings','distance']\n",
    "cat_cols=['Type_of_vehicle','Weather','Road_traffic_density','multiple_deliveries','Festival','City','time of day'] \n",
    "X_train,X_test,y_train,y_test=train_test_split(df[numerical_columns+cat_cols],df['time'],test_size=0.2)"
   ]
  },
  {
   "cell_type": "code",
   "execution_count": null,
   "metadata": {},
   "outputs": [
    {
     "name": "stdout",
     "output_type": "stream",
     "text": [
      "  0%|          | 0/100 [00:00<?, ?trial/s, best loss=?]"
     ]
    },
    {
     "name": "stdout",
     "output_type": "stream",
     "text": [
      "100%|██████████| 100/100 [05:19<00:00,  3.19s/trial, best loss: -0.7598671913146973]\n"
     ]
    }
   ],
   "source": [
    "preprocessor=ColumnTransformer([\n",
    "    ('numerical',StandardScaler(),numerical_columns),\n",
    "    ('categorical',OneHotEncoder(),cat_cols)\n",
    "],remainder='passthrough')\n",
    "\n",
    "def objective(params):\n",
    "    model = XGBRegressor(\n",
    "        n_estimators=int(params['n_estimators']),\n",
    "        max_depth=int(params['max_depth']),\n",
    "        learning_rate=params['learning_rate'],\n",
    "        subsample=params['subsample'],\n",
    "        colsample_bytree=params['colsample_bytree'],\n",
    "        gamma=params['gamma'],\n",
    "        reg_alpha=params['reg_alpha'],\n",
    "        reg_lambda=params['reg_lambda'],\n",
    "        n_jobs=-1\n",
    "    )\n",
    "    pipeline=Pipeline(steps=[\n",
    "    ('preprocessor',preprocessor),\n",
    "    ('regressor',model)\n",
    "    ])\n",
    "\n",
    "    pipeline.fit(X_train, y_train)\n",
    "    y_pred=pipeline.predict(X_test)\n",
    "    score = r2_score(y_test,y_pred)\n",
    "\n",
    "    return {'loss': -score, 'status': STATUS_OK}\n",
    "\n",
    "param_space = {\n",
    "    'n_estimators': scope.int(hp.quniform('n_estimators', 100, 1000, 1)),\n",
    "    'max_depth': scope.int(hp.quniform('max_depth', 3, 15, 1)),\n",
    "    'learning_rate': hp.loguniform('learning_rate', np.log(0.01), np.log(0.3)),\n",
    "    'subsample': hp.uniform('subsample', 0.5, 1.0),\n",
    "    'colsample_bytree': hp.uniform('colsample_bytree', 0.5, 1.0),\n",
    "    'gamma': hp.uniform('gamma', 0, 5),\n",
    "    'reg_alpha': hp.uniform('reg_alpha', 0, 5),\n",
    "    'reg_lambda': hp.uniform('reg_lambda', 0, 5),\n",
    "}\n",
    "trials3 = Trials()\n",
    "best_params = fmin(\n",
    "    fn=objective,\n",
    "    space=param_space,\n",
    "    algo=tpe.suggest,\n",
    "    max_evals=100,\n",
    "    trials=trials3,\n",
    "    rstate=np.random.default_rng(42)\n",
    ")"
   ]
  },
  {
   "cell_type": "markdown",
   "metadata": {},
   "source": [
    "## Testing LinearRegression"
   ]
  },
  {
   "cell_type": "code",
   "execution_count": null,
   "metadata": {},
   "outputs": [
    {
     "name": "stdout",
     "output_type": "stream",
     "text": [
      "Test score: 0.597254080409384\n",
      "Train score: 0.6031941111911703\n",
      "Test RMSE: 5.90597015528961\n"
     ]
    }
   ],
   "source": [
    "numerical_columns=['Delivery_person_Age','Delivery_person_Ratings','distance']\n",
    "cat_cols=['Type_of_vehicle','Weather','Road_traffic_density','multiple_deliveries','Festival','City','time of day','Vehicle_condition'] \n",
    "X_train,X_test,y_train,y_test=train_test_split(df[numerical_columns+cat_cols],df['time'],test_size=0.2)\n",
    "preprocessor=ColumnTransformer([\n",
    "    ('numerical',StandardScaler(),numerical_columns),\n",
    "    ('categorical',OneHotEncoder(),cat_cols)\n",
    "],remainder='passthrough')\n",
    "pipeline=Pipeline(steps=[\n",
    "    ('preprocessor',preprocessor),\n",
    "    ('regressor',LinearRegression(n_jobs=-1))\n",
    "])\n",
    "pipeline.fit(X_train,y_train)\n",
    "y_pred=pipeline.predict(X_test)\n",
    "print(f\"Test score: {r2_score(y_test,y_pred)}\")\n",
    "print(f\"Train score: {pipeline.score(X_train,y_train)}\")\n",
    "print(f\"Test RMSE: {root_mean_squared_error(y_test,y_pred)}\")"
   ]
  }
 ],
 "metadata": {
  "kernelspec": {
   "display_name": "base",
   "language": "python",
   "name": "python3"
  },
  "language_info": {
   "codemirror_mode": {
    "name": "ipython",
    "version": 3
   },
   "file_extension": ".py",
   "mimetype": "text/x-python",
   "name": "python",
   "nbconvert_exporter": "python",
   "pygments_lexer": "ipython3",
   "version": "3.10.10"
  }
 },
 "nbformat": 4,
 "nbformat_minor": 2
}
